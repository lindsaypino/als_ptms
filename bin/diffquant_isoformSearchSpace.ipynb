{
 "cells": [
  {
   "cell_type": "code",
   "execution_count": 12,
   "metadata": {},
   "outputs": [],
   "source": [
    "import os\n",
    "from os import listdir\n",
    "from os.path import isfile, join\n",
    "import sys\n",
    "import pandas as pd\n",
    "from pyteomics import mztab\n",
    "import re\n",
    "\n",
    "project_dir = 'D:/Penn/resources/tide_index/'\n"
   ]
  },
  {
   "cell_type": "code",
   "execution_count": 13,
   "metadata": {},
   "outputs": [],
   "source": [
    "# tide index peptide list is tab separated: peptideSeq \\t mass\n",
    "canonical = pd.read_table(os.path.join(project_dir, './canonical.tide-index.peptides.target.txt'), \n",
    "                          sep='\\t', names=['peptideseq','mass'], engine='python')\n",
    "isoform = pd.read_table(os.path.join(project_dir, './isoforms.tide-index.peptides.target.txt'), \n",
    "                          sep='\\t', names=['peptideseq','mass'], engine='python')\n"
   ]
  },
  {
   "cell_type": "code",
   "execution_count": 17,
   "metadata": {},
   "outputs": [
    {
     "name": "stdout",
     "output_type": "stream",
     "text": [
      "canonical peptides: 588391\n",
      "isoform inclusive peptides: 621165\n",
      "common pep in both lists: 588288"
     ]
    }
   ],
   "source": [
    "sys.stdout.write(\"canonical peptides: %d\\n\" % len(canonical['peptideseq'].drop_duplicates()) )\n",
    "sys.stdout.write(\"isoform inclusive peptides: %d\\n\" % len(isoform['peptideseq'].drop_duplicates()) )\n",
    "sys.stdout.write(\"common pep in both lists: %d\" %\n",
    "                 len(list(set(canonical['peptideseq'].drop_duplicates()).intersection(isoform['peptideseq'].drop_duplicates()))) )"
   ]
  }
 ],
 "metadata": {
  "kernelspec": {
   "display_name": "Python 3",
   "language": "python",
   "name": "python3"
  },
  "language_info": {
   "codemirror_mode": {
    "name": "ipython",
    "version": 3
   },
   "file_extension": ".py",
   "mimetype": "text/x-python",
   "name": "python",
   "nbconvert_exporter": "python",
   "pygments_lexer": "ipython3",
   "version": "3.7.6"
  }
 },
 "nbformat": 4,
 "nbformat_minor": 4
}
